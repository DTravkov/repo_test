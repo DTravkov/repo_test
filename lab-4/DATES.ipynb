{
 "cells": [
  {
   "cell_type": "code",
   "execution_count": 2,
   "metadata": {},
   "outputs": [
    {
     "name": "stdout",
     "output_type": "stream",
     "text": [
      "2025-02-06 22:45:00.671736\n"
     ]
    }
   ],
   "source": [
    "import datetime as dt\n",
    "#To print current time +- some days\n",
    "print(dt.datetime.now() - dt.timedelta(5)) "
   ]
  },
  {
   "cell_type": "code",
   "execution_count": 3,
   "metadata": {},
   "outputs": [
    {
     "name": "stdout",
     "output_type": "stream",
     "text": [
      "2025-02-10 22:45:02.003000\n",
      "2025-02-12 22:45:02.003000\n",
      "2025-02-11 22:45:02.003000\n"
     ]
    }
   ],
   "source": [
    "import datetime as dt\n",
    "#Yesterday\n",
    "print(dt.datetime.now() - dt.timedelta(1)) \n",
    "#Tommorow\n",
    "print(dt.datetime.now() + dt.timedelta(1))\n",
    "#Today\n",
    "print(dt.datetime.now())"
   ]
  },
  {
   "cell_type": "code",
   "execution_count": 4,
   "metadata": {},
   "outputs": [
    {
     "name": "stdout",
     "output_type": "stream",
     "text": [
      "2025-02-11 22:45:03\n"
     ]
    }
   ],
   "source": [
    "import datetime as dt\n",
    "#Formatting today's date without microsecond\n",
    "print(dt.datetime.now().replace(microsecond=0))\n"
   ]
  },
  {
   "cell_type": "code",
   "execution_count": null,
   "metadata": {},
   "outputs": [
    {
     "name": "stdout",
     "output_type": "stream",
     "text": [
      "<built-in method total_seconds of datetime.timedelta object at 0x000002A5655AF4B0> seconds have passed since 2006-02-20\n"
     ]
    }
   ],
   "source": [
    "import datetime as dt\n",
    "#Amount of days in between two dates\n",
    "date1 = dt.datetime.now().date()\n",
    "date2 = dt.datetime.date(dt.datetime(2006,2,20))\n",
    "print((date1 - date2).total_seconds(), f\"seconds have passed since {date2}\")"
   ]
  }
 ],
 "metadata": {
  "kernelspec": {
   "display_name": "base",
   "language": "python",
   "name": "python3"
  },
  "language_info": {
   "codemirror_mode": {
    "name": "ipython",
    "version": 3
   },
   "file_extension": ".py",
   "mimetype": "text/x-python",
   "name": "python",
   "nbconvert_exporter": "python",
   "pygments_lexer": "ipython3",
   "version": "3.12.7"
  }
 },
 "nbformat": 4,
 "nbformat_minor": 2
}
