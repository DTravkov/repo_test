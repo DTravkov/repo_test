{
 "cells": [
  {
   "cell_type": "markdown",
   "metadata": {},
   "source": [
    "Lab-2 Tasks"
   ]
  },
  {
   "cell_type": "code",
   "execution_count": 2,
   "metadata": {},
   "outputs": [
    {
     "name": "stdout",
     "output_type": "stream",
     "text": [
      "True\n"
     ]
    }
   ],
   "source": [
    "\n",
    "#Booleans express True or False values,they are widely used in programming to set up conditions\n",
    "\n",
    "\n",
    "print(5 > 3)"
   ]
  },
  {
   "cell_type": "code",
   "execution_count": 3,
   "metadata": {},
   "outputs": [
    {
     "data": {
      "text/plain": [
       "True"
      ]
     },
     "execution_count": 3,
     "metadata": {},
     "output_type": "execute_result"
    }
   ],
   "source": [
    "bool(\"abc\")\n",
    "bool(123)\n",
    "bool([\"apple\", \"cherry\", \"banana\"])\n",
    "#These booleans return true,because data structures/variables are not empty"
   ]
  },
  {
   "cell_type": "code",
   "execution_count": 4,
   "metadata": {},
   "outputs": [
    {
     "name": "stdout",
     "output_type": "stream",
     "text": [
      "YES!\n",
      "True\n"
     ]
    }
   ],
   "source": [
    "#Functions can return values,including booleans\n",
    "def myFunction() :\n",
    "  return True\n",
    "\n",
    "if myFunction():\n",
    "  print(\"YES!\")\n",
    "else:\n",
    "  print(\"NO!\")\n",
    "\n",
    "\n",
    "#Example of a built in function that return True or False\n",
    "x = 200\n",
    "print(isinstance(x, int))"
   ]
  },
  {
   "cell_type": "code",
   "execution_count": null,
   "metadata": {},
   "outputs": [],
   "source": [
    "# Python operators\n",
    "# ()\tParentheses\t\n",
    "# **\tExponentiation\t\n",
    "# +x  -x  ~x\tUnary plus, unary minus, and bitwise NOT\t\n",
    "# *  /  //  %\tMultiplication, division, floor division, and modulus\t\n",
    "#+  -\tAddition and subtraction\t\n",
    "# <<  >>\tBitwise left and right shifts\t\n",
    "# &\tBitwise AND\t\n",
    "# ^\tBitwise XOR\t\n",
    "# |\tBitwise OR\t\n",
    "# ==  !=  >  >=  <  <=  is  is not  in  not in \tComparisons, identity, and membership operators\t\n",
    "# not\tLogical NOT\t\n",
    "# and\tAND\t\n",
    "# or\tOR"
   ]
  },
  {
   "cell_type": "code",
   "execution_count": 9,
   "metadata": {},
   "outputs": [
    {
     "name": "stdout",
     "output_type": "stream",
     "text": [
      "['member1', 'member2', 'member3', 'member4', 'member5', 'member6', 'member7', 'member8']\n",
      "member1\n"
     ]
    }
   ],
   "source": [
    "#Lists in python are arrays,containers for indexed elements (Indexing starts from 0)\n",
    "lst = [\"member1\",\"member2\",\"member3\",\"member4\",\"member5\",\"member6\",\"member7\",\"member8\"]\n",
    "print(lst)\n",
    "print(lst[0])"
   ]
  },
  {
   "cell_type": "code",
   "execution_count": 10,
   "metadata": {},
   "outputs": [],
   "source": [
    "#Methods for lists\n",
    "#append()\tAdds an element at the end of the list\n",
    "#clear()\tRemoves all the elements from the list\n",
    "#copy()\tReturns a copy of the list\n",
    "#count()\tReturns the number of elements with the specified value\n",
    "#extend()\tAdd the elements of a list (or any iterable), to the end of the current list\n",
    "#index()\tReturns the index of the first element with the specified value\n",
    "#insert()\tAdds an element at the specified position\n",
    "#pop()\tRemoves the element at the specified position\n",
    "#remove()\tRemoves the item with the specified value\n",
    "#reverse()\tReverses the order of the list\n",
    "#sort()\tSorts the list"
   ]
  },
  {
   "cell_type": "code",
   "execution_count": 12,
   "metadata": {},
   "outputs": [
    {
     "name": "stdout",
     "output_type": "stream",
     "text": [
      "member8\n",
      "['member3', 'member4', 'member5']\n",
      "['member1', 'member2', 'member3', 'member4']\n",
      "['member3', 'member4', 'member5', 'member6', 'member7', 'member8']\n"
     ]
    }
   ],
   "source": [
    "#Lists can be accesed in different ways\n",
    "print(lst[-1]) # - means indexing from the end\n",
    "print(lst[2:5]) # from 2 to 5 excluding 5nd element (\"member6\" in my case)\n",
    "print(lst[:4]) # from 0 to 4\n",
    "print(lst[2:]) # from 2 to the end of list"
   ]
  },
  {
   "cell_type": "code",
   "execution_count": 72,
   "metadata": {},
   "outputs": [
    {
     "name": "stdout",
     "output_type": "stream",
     "text": [
      "['member0', 'member2', 'member_new_3', 'member_new_4', 'member4_new', 'member5', 'member6', 'member7']\n"
     ]
    }
   ],
   "source": [
    "#we change list elements using access operators even when we access some range\n",
    "lst[0] = \"member0\"\n",
    "lst[2:4] = [\"member_new_3\",\"member_new_4\"]\n",
    "print(lst)"
   ]
  },
  {
   "cell_type": "code",
   "execution_count": 22,
   "metadata": {},
   "outputs": [
    {
     "name": "stdout",
     "output_type": "stream",
     "text": [
      "['member0', 'member2', 'member_inserted_3', 'member3_new', 'member4_new', 'member5', 'member6', 'member7', 'member8']\n"
     ]
    }
   ],
   "source": [
    "#to insert items at specific position we use insert method\n",
    "lst.insert(2, \"member_inserted_3\")\n",
    "print(lst)"
   ]
  },
  {
   "cell_type": "code",
   "execution_count": 27,
   "metadata": {},
   "outputs": [
    {
     "name": "stdout",
     "output_type": "stream",
     "text": [
      "['member0', 'member2', 'member_inserted_3', 'member3_new', 'member4_new', 'member5', 'member6', 'member7', 'member8', 'appendix to the list', 'appendix to the list']\n"
     ]
    }
   ],
   "source": [
    "#append method to add an element to the end of list\n",
    "lst.append(\"appendix to the list\")\n",
    "print(lst)\n"
   ]
  },
  {
   "cell_type": "code",
   "execution_count": 30,
   "metadata": {},
   "outputs": [
    {
     "name": "stdout",
     "output_type": "stream",
     "text": [
      "['member0', 'member2', 'member_inserted_3', 'member3_new', 'member4_new', 'member5', 'member6', 'member7', 'member8', 'appendix to the list', 'appendix to the list', 'extended', 'list', 'extended', 'list']\n"
     ]
    }
   ],
   "source": [
    "#we can combine 2 lists using extend\n",
    "lst2 = [\"extended\",\"list\"]\n",
    "lst.extend(lst2)\n",
    "print(lst)"
   ]
  },
  {
   "cell_type": "code",
   "execution_count": 35,
   "metadata": {},
   "outputs": [
    {
     "name": "stdout",
     "output_type": "stream",
     "text": [
      "['member0', 'member2', 'member_inserted_3', 'member3_new', 'member4_new', 'member5', 'member6', 'member7']\n",
      "[]\n"
     ]
    }
   ],
   "source": [
    "#Removing list items using .pop() and .remove() methods.If you do not specify the index, the pop() method removes the last item.\n",
    "lst.pop(-1)\n",
    "lst.remove(\"appendix to the list\")\n",
    "print(lst)\n",
    "#The del keyword also removes the specified index or can delete the whole list\n",
    "#clear method to clear the list\n",
    "lst2.clear()\n",
    "print(lst2)"
   ]
  },
  {
   "cell_type": "code",
   "execution_count": 73,
   "metadata": {},
   "outputs": [
    {
     "name": "stdout",
     "output_type": "stream",
     "text": [
      "member0\n",
      "member2\n",
      "member_new_3\n",
      "member_new_4\n",
      "member4_new\n",
      "member5\n",
      "member6\n",
      "member7\n",
      "##############################################\n",
      "member0\n",
      "member2\n",
      "member_new_3\n",
      "member_new_4\n",
      "member4_new\n",
      "member5\n",
      "member6\n",
      "member7\n",
      "##############################################\n",
      "member0\n",
      "member2\n",
      "member_new_3\n",
      "member_new_4\n",
      "member4_new\n",
      "member5\n",
      "member6\n",
      "member7\n"
     ]
    }
   ],
   "source": [
    "#looping through the list\n",
    "for x in lst:\n",
    "  print(x)\n",
    "\n",
    "\n",
    "print(\"##############################################\")\n",
    "\n",
    "\n",
    "for x in range(len(lst)):\n",
    "  print(lst[x])\n",
    "\n",
    "print(\"##############################################\")\n",
    "\n",
    "\n",
    "i = 0\n",
    "while i < len(lst):\n",
    "  print(lst[i])\n",
    "  i = i + 1\n",
    "\n",
    "\n",
    "#Short way is [print(x) for x in thislist]"
   ]
  },
  {
   "cell_type": "code",
   "execution_count": 75,
   "metadata": {},
   "outputs": [
    {
     "name": "stdout",
     "output_type": "stream",
     "text": [
      "['member0', 'member2', 'member_new_3', 'member_new_4', 'member5', 'member6', 'member7']\n"
     ]
    }
   ],
   "source": [
    "#List comprehension to work with lists based on some conditions in another list while looping through each element there\n",
    "\n",
    "lst_with_numbers = [x for x in lst if x[-1] >= '0' and x[-1] <= '9']\n",
    "print(lst_with_numbers)"
   ]
  },
  {
   "cell_type": "code",
   "execution_count": 86,
   "metadata": {},
   "outputs": [
    {
     "name": "stdout",
     "output_type": "stream",
     "text": [
      "[-54, 0, 1, 3, 4, 6, 7, 8, 9, 21, 33]\n",
      "[33, 21, 9, 8, 7, 6, 4, 3, 1, 0, -54]\n",
      "[8, 6, 4, 0, -54, 33, 21, 9, 7, 3, 1]\n",
      "[1, 3, 7, 9, 21, 33, -54, 0, 4, 6, 8]\n"
     ]
    }
   ],
   "source": [
    "#List sorting in both directions,plus with comparator function\n",
    "lst_integers = [0,33,21,1,3,6,7,4,8,9,-54]\n",
    "lst_integers.sort()\n",
    "print(lst_integers)\n",
    "lst_integers.sort(reverse = True)\n",
    "print(lst_integers)\n",
    "\n",
    "def compareByEvenAscned(n):\n",
    "    return n%2 and n > 0\n",
    "\n",
    "lst_integers.sort(key = compareByEvenAscned)\n",
    "print(lst_integers)\n",
    "\n",
    "#Reverse func\n",
    "lst_integers.reverse()\n",
    "print(lst_integers)"
   ]
  },
  {
   "cell_type": "code",
   "execution_count": 90,
   "metadata": {},
   "outputs": [],
   "source": [
    "#Ways to copy lists without referencing to them\n",
    "lst_copy = list(lst)\n",
    "lst_copy = lst.copy()\n",
    "lst_copy = lst[:]"
   ]
  },
  {
   "cell_type": "code",
   "execution_count": 92,
   "metadata": {},
   "outputs": [],
   "source": [
    "#List concatenation\n",
    "lst_copy += lst\n",
    "lst_copy.extend(lst)\n",
    "lst_copy.append([x for x in lst])"
   ]
  },
  {
   "cell_type": "code",
   "execution_count": 117,
   "metadata": {},
   "outputs": [
    {
     "name": "stdout",
     "output_type": "stream",
     "text": [
      "('member0', 'member2', 'member_new_3', 'member_new_4', 'member4_new', 'member5', 'member6', 'member7')\n",
      "<class 'tuple'>\n",
      "<class 'str'>\n",
      "('member2', 'member_new_3', 'member_new_4')\n"
     ]
    }
   ],
   "source": [
    "#Tuples are indexed ordered unchangable lists\n",
    "tple = tuple(lst)\n",
    "print(tple)\n",
    "\n",
    "#If tuple contains only 1 item write comma after it\n",
    "print(type((\"one\",)))\n",
    "print(type((\"one\")))\n",
    "\n",
    "#We can access tuple elements jsut like lists\n",
    "print(tple[1:4])"
   ]
  },
  {
   "cell_type": "code",
   "execution_count": 124,
   "metadata": {},
   "outputs": [
    {
     "ename": "NameError",
     "evalue": "name 'tple' is not defined",
     "output_type": "error",
     "traceback": [
      "\u001b[1;31m---------------------------------------------------------------------------\u001b[0m",
      "\u001b[1;31mNameError\u001b[0m                                 Traceback (most recent call last)",
      "Cell \u001b[1;32mIn[124], line 3\u001b[0m\n\u001b[0;32m      1\u001b[0m \u001b[38;5;66;03m#Tuples can be recreated as lists to change values,and tuples can be concatenated\u001b[39;00m\n\u001b[0;32m      2\u001b[0m tple2 \u001b[38;5;241m=\u001b[39m \u001b[38;5;28mtuple\u001b[39m([x \u001b[38;5;28;01mfor\u001b[39;00m x \u001b[38;5;129;01min\u001b[39;00m \u001b[38;5;28mrange\u001b[39m(\u001b[38;5;241m0\u001b[39m,\u001b[38;5;241m11\u001b[39m)])\n\u001b[1;32m----> 3\u001b[0m \u001b[38;5;28mprint\u001b[39m(\u001b[43mtple\u001b[49m \u001b[38;5;241m+\u001b[39m tple2)\n\u001b[0;32m      5\u001b[0m \u001b[38;5;28;01mdel\u001b[39;00m tple\n\u001b[0;32m      6\u001b[0m \u001b[38;5;28mprint\u001b[39m(tple)\n",
      "\u001b[1;31mNameError\u001b[0m: name 'tple' is not defined"
     ]
    }
   ],
   "source": [
    "#Tuples can be recreated as lists to change values,and tuples can be concatenated\n",
    "tple2 = tuple([x for x in range(0,11)])\n",
    "print(tple + tple2)\n",
    "\n",
    "del tple\n",
    "print(tple)  #  raises an error because tple is deleted from now************"
   ]
  },
  {
   "cell_type": "code",
   "execution_count": 128,
   "metadata": {},
   "outputs": [
    {
     "name": "stdout",
     "output_type": "stream",
     "text": [
      "1\n",
      "2\n",
      "[3, 4, 5, 6, 7, 8]\n"
     ]
    }
   ],
   "source": [
    "#Unpacking tuple into variables\n",
    "fruits = (1,2,3,4,5,6,7,8)\n",
    "(x, y, *z) = fruits\n",
    "print(x)\n",
    "print(y)\n",
    "print(z)"
   ]
  },
  {
   "cell_type": "code",
   "execution_count": 129,
   "metadata": {},
   "outputs": [],
   "source": [
    "#Methods for tuples\n",
    "# count()\tReturns the number of times a specified value occurs in a tuple\n",
    "# index()\tSearches the tuple for a specified value and returns the position of where it was found"
   ]
  },
  {
   "cell_type": "code",
   "execution_count": 140,
   "metadata": {},
   "outputs": [
    {
     "name": "stdout",
     "output_type": "stream",
     "text": [
      "{False, 1, 2, 'string'}\n",
      "{False, 2, 'string'}\n",
      "{False, 2, 'string', 54}\n",
      "False\n",
      "2\n",
      "string\n",
      "54\n",
      "{False, 1, 2, 3, 33, 4, 6, 7, 8, 9, -54, 'string', 21, 54}\n",
      "{False, 3, 33, 4, 6, 7, 8, 9, -54, 'string', 21, 54}\n"
     ]
    }
   ],
   "source": [
    "#Sets are unordered unique values container.We can only add and remove items there\n",
    "st = set((1,2,False,\"string\"))\n",
    "st = {1,2,False,\"string\"}\n",
    "print(st)\n",
    "st.remove(1)\n",
    "print(st)\n",
    "st.add(54)\n",
    "print(st)\n",
    "\n",
    "#We can only loop through a set\n",
    "for x in st:\n",
    "    print(x)\n",
    "\n",
    "#It is possible to add iterables\n",
    "st.update(lst_integers)\n",
    "print(st)\n",
    "\n",
    "st.discard(1)#Wont raise an error if 1 is not in st\n",
    "st.remove(2)\n",
    "st.pop() #removes random element\n",
    "print(st)\n",
    "\n",
    "st.clear() #empties the set\n",
    "del st #deletes the set\n",
    "\n",
    "\n",
    "#we can use math operations on sets with methods\n",
    "\n",
    "#The union() and update() methods joins all items from both sets.\n",
    "#The intersection() method keeps ONLY the duplicates.\n",
    "#The difference() method keeps the items from the first set that are not in the other set(s).\n",
    "#The symmetric_difference() method keeps all items EXCEPT the duplicates.\n",
    "\n",
    "\n",
    "#All the methods\n",
    "#add()\t \tAdds an element to the set\n",
    "#clear()\t \tRemoves all the elements from the set\n",
    "#copy()\t \tReturns a copy of the set\n",
    "#difference()\t-\tReturns a set containing the difference between two or more sets\n",
    "#difference_update()\t-=\tRemoves the items in this set that are also included in another, specified set\n",
    "#discard()\t \tRemove the specified item\n",
    "#intersection()\t&\tReturns a set, that is the intersection of two other sets\n",
    "#intersection_update()\t&=\tRemoves the items in this set that are not present in other, specified set(s)\n",
    "#isdisjoint()\t \tReturns whether two sets have a intersection or not\n",
    "#issubset()\t<=\tReturns whether another set contains this set or not <Returns whether all items in this set is present in other, specified set(s)\n",
    "#issuperset()\t>=\tReturns whether this set contains another set or not>Returns whether all items in other, specified set(s) is present in this set\n",
    "#pop()\t \tRemoves an element from the set\n",
    "#remove()\t \tRemoves the specified element\n",
    "#symmetric_difference()\t^\tReturns a set with the symmetric differences of two sets\n",
    "#symmetric_difference_update()\t^=\tInserts the symmetric differences from this set and another\n",
    "#union()\t|\tReturn a set containing the union of sets\n",
    "#update()\t|=\tUpdate the set with the union of this set and others"
   ]
  },
  {
   "cell_type": "code",
   "execution_count": 144,
   "metadata": {},
   "outputs": [
    {
     "name": "stdout",
     "output_type": "stream",
     "text": [
      "{'day': 1, 'month': 11, 'year': 1954}\n",
      "dict_keys(['day', 'month', 'year'])\n",
      "day\n",
      "1\n",
      "day 1\n",
      "Tobias\n",
      "child1\n",
      "name: Emil\n",
      "year: 2004\n",
      "child2\n",
      "name: Tobias\n",
      "year: 2007\n",
      "child3\n",
      "name: Linus\n",
      "year: 2011\n"
     ]
    }
   ],
   "source": [
    "#Dictionaries are key:value ordered data structure\n",
    "thisdict = {\n",
    "  \"day\": 1,\n",
    "  \"month\": 11,\n",
    "  \"year\": 1954,\n",
    "}\n",
    "print(thisdict)\n",
    "\n",
    "#Access\n",
    "x = thisdict[\"day\"]\n",
    "\n",
    "lst_keys = thisdict.keys()\n",
    "print(lst_keys)\n",
    "\n",
    "#change the elements\n",
    "thisdict[\"year\"] = 2025\n",
    "\n",
    "#update with new key:value\n",
    "thisdict.update({\"year\": 2026})\n",
    "\n",
    "thisdict.pop(\"year\") # deletes the item with key\n",
    "\n",
    "thisdict.popitem() #deletes last item\n",
    "\n",
    "# del thisdict deletes the whole dict\n",
    "\n",
    "\n",
    "for x in thisdict: #all keys\n",
    "  print(x)\n",
    "\n",
    "\n",
    "for x in thisdict: #all values\n",
    "  print(thisdict[x])\n",
    "\n",
    "\n",
    "for x, y in thisdict.items(): #all items\n",
    "  print(x, y)\n",
    "\n",
    "#we can copy dict using .copy() and dict(dictToCopy)\n",
    "\n",
    "#Nested dictionaries\n",
    "myfamily = {\n",
    "  \"child1\" : {\n",
    "    \"name\" : \"Emil\",\n",
    "    \"year\" : 2004\n",
    "  },\n",
    "  \"child2\" : {\n",
    "    \"name\" : \"Tobias\",\n",
    "    \"year\" : 2007\n",
    "  },\n",
    "  \"child3\" : {\n",
    "    \"name\" : \"Linus\",\n",
    "    \"year\" : 2011\n",
    "  }\n",
    "}\n",
    "\n",
    "print(myfamily[\"child2\"][\"name\"]) #access elements in nested dict\n",
    "\n",
    "\n",
    "for x, obj in myfamily.items(): #loop through nested dict\n",
    "  print(x)\n",
    "\n",
    "  for y in obj:\n",
    "    print(y + ':', obj[y])\n",
    "\n",
    "#Dict methods\n",
    "#clear()\tRemoves all the elements from the dictionary\n",
    "#copy()\tReturns a copy of the dictionary\n",
    "#fromkeys()\tReturns a dictionary with the specified keys and value\n",
    "#get()\tReturns the value of the specified key\n",
    "#items()\tReturns a list containing a tuple for each key value pair\n",
    "#keys()\tReturns a list containing the dictionary's keys\n",
    "#pop()\tRemoves the element with the specified key\n",
    "#popitem()\tRemoves the last inserted key-value pair\n",
    "#setdefault()\tReturns the value of the specified key. If the key does not exist: insert the key, with the specified value\n",
    "#update()\tUpdates the dictionary with the specified key-value pairs\n",
    "#values()\tReturns a list of all the values in the dictionary\n",
    "\n"
   ]
  },
  {
   "cell_type": "code",
   "execution_count": 161,
   "metadata": {},
   "outputs": [
    {
     "name": "stdout",
     "output_type": "stream",
     "text": [
      "0\n",
      "-1\n",
      "-2\n",
      "-3\n",
      "-4\n",
      "###################\n",
      "1\n",
      "2\n",
      "3\n",
      "4\n",
      "5\n",
      "6\n",
      "7\n",
      "8\n",
      "9\n",
      "###################\n",
      "10\n",
      "8\n",
      "6\n",
      "###################\n",
      "False\n",
      "3\n",
      "33\n",
      "4\n",
      "6\n",
      "7\n",
      "8\n",
      "9\n",
      "-54\n",
      "string\n",
      "21\n",
      "54\n"
     ]
    }
   ],
   "source": [
    "#Loops (While,For)\n",
    "i = -5\n",
    "x = 0\n",
    "while i < x:\n",
    "    print(x)\n",
    "    x -= 1\n",
    "print(\"###################\")\n",
    "\n",
    "for x in range(1,10):\n",
    "    print(x)\n",
    "print(\"###################\")\n",
    "#Break and continue statements\n",
    "x = 10\n",
    "i = 0\n",
    "while i < x:\n",
    "    if(x == 4):\n",
    "        break\n",
    "    if(x%2 == 0):\n",
    "        print(x)\n",
    "        x -= 1\n",
    "    else:\n",
    "        x -= 1\n",
    "        continue\n",
    "print(\"###################\")\n",
    "\n",
    "for x in st: #We can loop through elements of data structures\n",
    "    print(x)\n",
    "\n"
   ]
  }
 ],
 "metadata": {
  "kernelspec": {
   "display_name": "mlagents_env",
   "language": "python",
   "name": "python3"
  },
  "language_info": {
   "codemirror_mode": {
    "name": "ipython",
    "version": 3
   },
   "file_extension": ".py",
   "mimetype": "text/x-python",
   "name": "python",
   "nbconvert_exporter": "python",
   "pygments_lexer": "ipython3",
   "version": "3.10.16"
  }
 },
 "nbformat": 4,
 "nbformat_minor": 2
}
